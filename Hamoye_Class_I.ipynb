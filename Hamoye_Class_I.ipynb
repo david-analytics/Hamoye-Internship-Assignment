{
 "cells": [
  {
   "cell_type": "code",
   "execution_count": 1,
   "id": "879c92d8",
   "metadata": {},
   "outputs": [],
   "source": [
    "import pandas as pd\n",
    "import numpy as np"
   ]
  },
  {
   "cell_type": "code",
   "execution_count": null,
   "id": "f4b817c5",
   "metadata": {},
   "outputs": [],
   "source": [
    "#All Questions were answer aaccordingly "
   ]
  },
  {
   "cell_type": "code",
   "execution_count": 2,
   "id": "eeb8461a",
   "metadata": {},
   "outputs": [
    {
     "data": {
      "text/html": [
       "<div>\n",
       "<style scoped>\n",
       "    .dataframe tbody tr th:only-of-type {\n",
       "        vertical-align: middle;\n",
       "    }\n",
       "\n",
       "    .dataframe tbody tr th {\n",
       "        vertical-align: top;\n",
       "    }\n",
       "\n",
       "    .dataframe thead th {\n",
       "        text-align: right;\n",
       "    }\n",
       "</style>\n",
       "<table border=\"1\" class=\"dataframe\">\n",
       "  <thead>\n",
       "    <tr style=\"text-align: right;\">\n",
       "      <th></th>\n",
       "      <th>Area Code</th>\n",
       "      <th>Area</th>\n",
       "      <th>Item Code</th>\n",
       "      <th>Item</th>\n",
       "      <th>Element Code</th>\n",
       "      <th>Element</th>\n",
       "      <th>Unit</th>\n",
       "      <th>Y2014</th>\n",
       "      <th>Y2015</th>\n",
       "      <th>Y2016</th>\n",
       "      <th>Y2017</th>\n",
       "      <th>Y2018</th>\n",
       "    </tr>\n",
       "  </thead>\n",
       "  <tbody>\n",
       "    <tr>\n",
       "      <th>0</th>\n",
       "      <td>4</td>\n",
       "      <td>Algeria</td>\n",
       "      <td>2501</td>\n",
       "      <td>Population</td>\n",
       "      <td>511</td>\n",
       "      <td>Total Population - Both sexes</td>\n",
       "      <td>1000 persons</td>\n",
       "      <td>38924.00</td>\n",
       "      <td>39728.00</td>\n",
       "      <td>40551.00</td>\n",
       "      <td>41389.00</td>\n",
       "      <td>42228.00</td>\n",
       "    </tr>\n",
       "    <tr>\n",
       "      <th>1</th>\n",
       "      <td>4</td>\n",
       "      <td>Algeria</td>\n",
       "      <td>2501</td>\n",
       "      <td>Population</td>\n",
       "      <td>5301</td>\n",
       "      <td>Domestic supply quantity</td>\n",
       "      <td>1000 tonnes</td>\n",
       "      <td>0.00</td>\n",
       "      <td>0.00</td>\n",
       "      <td>0.00</td>\n",
       "      <td>0.00</td>\n",
       "      <td>0.00</td>\n",
       "    </tr>\n",
       "    <tr>\n",
       "      <th>2</th>\n",
       "      <td>4</td>\n",
       "      <td>Algeria</td>\n",
       "      <td>2901</td>\n",
       "      <td>Grand Total</td>\n",
       "      <td>664</td>\n",
       "      <td>Food supply (kcal/capita/day)</td>\n",
       "      <td>kcal/capita/day</td>\n",
       "      <td>3377.00</td>\n",
       "      <td>3379.00</td>\n",
       "      <td>3372.00</td>\n",
       "      <td>3341.00</td>\n",
       "      <td>3322.00</td>\n",
       "    </tr>\n",
       "    <tr>\n",
       "      <th>3</th>\n",
       "      <td>4</td>\n",
       "      <td>Algeria</td>\n",
       "      <td>2901</td>\n",
       "      <td>Grand Total</td>\n",
       "      <td>674</td>\n",
       "      <td>Protein supply quantity (g/capita/day)</td>\n",
       "      <td>g/capita/day</td>\n",
       "      <td>94.90</td>\n",
       "      <td>94.35</td>\n",
       "      <td>94.72</td>\n",
       "      <td>92.82</td>\n",
       "      <td>91.83</td>\n",
       "    </tr>\n",
       "    <tr>\n",
       "      <th>4</th>\n",
       "      <td>4</td>\n",
       "      <td>Algeria</td>\n",
       "      <td>2901</td>\n",
       "      <td>Grand Total</td>\n",
       "      <td>684</td>\n",
       "      <td>Fat supply quantity (g/capita/day)</td>\n",
       "      <td>g/capita/day</td>\n",
       "      <td>80.06</td>\n",
       "      <td>79.36</td>\n",
       "      <td>77.40</td>\n",
       "      <td>80.19</td>\n",
       "      <td>77.28</td>\n",
       "    </tr>\n",
       "  </tbody>\n",
       "</table>\n",
       "</div>"
      ],
      "text/plain": [
       "   Area Code     Area  Item Code         Item  Element Code  \\\n",
       "0          4  Algeria       2501   Population           511   \n",
       "1          4  Algeria       2501   Population          5301   \n",
       "2          4  Algeria       2901  Grand Total           664   \n",
       "3          4  Algeria       2901  Grand Total           674   \n",
       "4          4  Algeria       2901  Grand Total           684   \n",
       "\n",
       "                                  Element             Unit     Y2014  \\\n",
       "0           Total Population - Both sexes     1000 persons  38924.00   \n",
       "1                Domestic supply quantity      1000 tonnes      0.00   \n",
       "2           Food supply (kcal/capita/day)  kcal/capita/day   3377.00   \n",
       "3  Protein supply quantity (g/capita/day)     g/capita/day     94.90   \n",
       "4      Fat supply quantity (g/capita/day)     g/capita/day     80.06   \n",
       "\n",
       "      Y2015     Y2016     Y2017     Y2018  \n",
       "0  39728.00  40551.00  41389.00  42228.00  \n",
       "1      0.00      0.00      0.00      0.00  \n",
       "2   3379.00   3372.00   3341.00   3322.00  \n",
       "3     94.35     94.72     92.82     91.83  \n",
       "4     79.36     77.40     80.19     77.28  "
      ]
     },
     "execution_count": 2,
     "metadata": {},
     "output_type": "execute_result"
    }
   ],
   "source": [
    "df = pd.read_csv('FoodBalanceSheets_E_Africa_NOFLAG.csv', encoding = 'latin-1')\n",
    "df.head()"
   ]
  },
  {
   "cell_type": "code",
   "execution_count": 3,
   "id": "64744b61",
   "metadata": {},
   "outputs": [
    {
     "name": "stdout",
     "output_type": "stream",
     "text": [
      "                                    sum  count\n",
      "Area                                          \n",
      "Algeria                       325644.27   1279\n",
      "Angola                        229159.57   1407\n",
      "Benin                         124771.22   1253\n",
      "Botswana                       22101.30   1368\n",
      "Burkina Faso                  101855.07   1383\n",
      "Cabo Verde                     14650.74   1193\n",
      "Cameroon                      232030.43   1441\n",
      "Central African Republic       29937.00   1262\n",
      "Chad                           71594.68   1281\n",
      "Comoros                           59.84     45\n",
      "Congo                          41181.68   1395\n",
      "Côte d'Ivoire                 224599.01   1454\n",
      "Djibouti                       22729.91   1061\n",
      "Egypt                         866379.92   1458\n",
      "Eswatini                       54343.33   1251\n",
      "Ethiopia                      448683.76   1428\n",
      "Ethiopia PDR                       0.00     39\n",
      "Gabon                          27979.64   1206\n",
      "Gambia                         23154.18   1116\n",
      "Ghana                         337599.06   1333\n",
      "Guinea                         98138.87   1383\n",
      "Guinea-Bissau                  19102.77   1076\n",
      "Kenya                         264660.66   1548\n",
      "Lesotho                        21267.96   1110\n",
      "Liberia                        29342.20   1135\n",
      "Madagascar                    131197.73   1425\n",
      "Malawi                        181098.71   1411\n",
      "Mali                          149928.33   1243\n",
      "Mauritania                    156665.46   1108\n",
      "Mauritius                      51114.83   1340\n",
      "Morocco                       388495.36   1369\n",
      "Mozambique                    161407.98   1406\n",
      "Namibia                        29874.89   1269\n",
      "Niger                         126707.58   1365\n",
      "Nigeria                      1483268.23   1457\n",
      "Rwanda                         73663.69   1397\n",
      "Sao Tome and Principe          12662.63   1122\n",
      "Senegal                        95681.15   1452\n",
      "Seychelles                       442.34     68\n",
      "Sierra Leone                   55311.33   1191\n",
      "South Africa                  517590.54   1395\n",
      "Sudan                         239931.92   1279\n",
      "Sudan (former)                     0.00     53\n",
      "Togo                           49841.88   1234\n",
      "Tunisia                       124167.20   1314\n",
      "Uganda                        213950.38   1435\n",
      "United Republic of Tanzania   322616.85   1409\n",
      "Zambia                        103223.77   1425\n",
      "Zimbabwe                       75919.34   1365\n"
     ]
    }
   ],
   "source": [
    "df2 = df.groupby('Area')['Y2017'].agg(['sum','count'])\n",
    "print(df2)"
   ]
  },
  {
   "cell_type": "code",
   "execution_count": 4,
   "id": "2101d542",
   "metadata": {},
   "outputs": [],
   "source": [
    "#Consider the following list of tuples:\n",
    "\n",
    "y = [(2, 4), (7, 8), (1, 5, 9)]\n",
    "\n",
    "#How would you assign element 8 from the list to a variable x?"
   ]
  },
  {
   "cell_type": "code",
   "execution_count": 5,
   "id": "3b8cbfd2",
   "metadata": {},
   "outputs": [
    {
     "name": "stdout",
     "output_type": "stream",
     "text": [
      "[(2, 4), (7, 8), (1, 5, 9)]\n"
     ]
    }
   ],
   "source": [
    "print(y)"
   ]
  },
  {
   "cell_type": "code",
   "execution_count": 6,
   "id": "771f3df9",
   "metadata": {},
   "outputs": [
    {
     "name": "stdout",
     "output_type": "stream",
     "text": [
      "8\n"
     ]
    }
   ],
   "source": [
    "x = y[1][-1]\n",
    "print(x)"
   ]
  },
  {
   "cell_type": "code",
   "execution_count": 7,
   "id": "8cb2fadb",
   "metadata": {},
   "outputs": [
    {
     "name": "stdout",
     "output_type": "stream",
     "text": [
      "8\n"
     ]
    }
   ],
   "source": [
    "b = y[1][1]\n",
    "print(b)"
   ]
  },
  {
   "cell_type": "code",
   "execution_count": 8,
   "id": "f8a52fd1",
   "metadata": {},
   "outputs": [],
   "source": [
    "lst = [[35, 'Portugal', 94], [33, 'Argentina', 93], [30 , 'Brazil', 92]]\n",
    "\n",
    "col = ['Age','Nationality','Overall']"
   ]
  },
  {
   "cell_type": "code",
   "execution_count": 9,
   "id": "c6d96683",
   "metadata": {},
   "outputs": [
    {
     "name": "stdout",
     "output_type": "stream",
     "text": [
      "   Age Nationalty  Overall\n",
      "1   35   Portugal       94\n",
      "2   33  Argentina       93\n",
      "3   30     Brazil       92\n"
     ]
    }
   ],
   "source": [
    "df2=pd.DataFrame(lst, columns=['Age', 'Nationalty', 'Overall'], index=[1,2,3])\n",
    "print(df2)"
   ]
  },
  {
   "cell_type": "code",
   "execution_count": 10,
   "id": "5304eca0",
   "metadata": {},
   "outputs": [],
   "source": [
    "df3=pd.DataFrame(lst, columns=col, index=[i for i in range(1,4)])"
   ]
  },
  {
   "cell_type": "code",
   "execution_count": 11,
   "id": "a4e09aeb",
   "metadata": {},
   "outputs": [
    {
     "name": "stdout",
     "output_type": "stream",
     "text": [
      "   Age Nationality  Overall\n",
      "1   35    Portugal       94\n",
      "2   33   Argentina       93\n",
      "3   30      Brazil       92\n"
     ]
    }
   ],
   "source": [
    "print(df3)"
   ]
  },
  {
   "cell_type": "code",
   "execution_count": 12,
   "id": "e9096ac4",
   "metadata": {},
   "outputs": [],
   "source": [
    "df4=pd.DataFrame(lst, columns=col, index=[1,2,3])"
   ]
  },
  {
   "cell_type": "code",
   "execution_count": 13,
   "id": "d2986acf",
   "metadata": {},
   "outputs": [
    {
     "name": "stdout",
     "output_type": "stream",
     "text": [
      "   Age Nationality  Overall\n",
      "1   35    Portugal       94\n",
      "2   33   Argentina       93\n",
      "3   30      Brazil       92\n"
     ]
    }
   ],
   "source": [
    "print(df4)"
   ]
  },
  {
   "cell_type": "code",
   "execution_count": 14,
   "id": "3d4e0ed0",
   "metadata": {},
   "outputs": [
    {
     "data": {
      "text/html": [
       "<div>\n",
       "<style scoped>\n",
       "    .dataframe tbody tr th:only-of-type {\n",
       "        vertical-align: middle;\n",
       "    }\n",
       "\n",
       "    .dataframe tbody tr th {\n",
       "        vertical-align: top;\n",
       "    }\n",
       "\n",
       "    .dataframe thead th {\n",
       "        text-align: right;\n",
       "    }\n",
       "</style>\n",
       "<table border=\"1\" class=\"dataframe\">\n",
       "  <thead>\n",
       "    <tr style=\"text-align: right;\">\n",
       "      <th></th>\n",
       "      <th>Area Code</th>\n",
       "      <th>Item Code</th>\n",
       "      <th>Element Code</th>\n",
       "      <th>Y2014</th>\n",
       "      <th>Y2015</th>\n",
       "      <th>Y2016</th>\n",
       "      <th>Y2017</th>\n",
       "      <th>Y2018</th>\n",
       "    </tr>\n",
       "  </thead>\n",
       "  <tbody>\n",
       "    <tr>\n",
       "      <th>count</th>\n",
       "      <td>60943.000000</td>\n",
       "      <td>60943.000000</td>\n",
       "      <td>60943.000000</td>\n",
       "      <td>59354.000000</td>\n",
       "      <td>59395.000000</td>\n",
       "      <td>59408.000000</td>\n",
       "      <td>59437.000000</td>\n",
       "      <td>59507.000000</td>\n",
       "    </tr>\n",
       "    <tr>\n",
       "      <th>mean</th>\n",
       "      <td>134.265576</td>\n",
       "      <td>2687.176706</td>\n",
       "      <td>3814.856456</td>\n",
       "      <td>134.196282</td>\n",
       "      <td>135.235966</td>\n",
       "      <td>136.555222</td>\n",
       "      <td>140.917765</td>\n",
       "      <td>143.758381</td>\n",
       "    </tr>\n",
       "    <tr>\n",
       "      <th>std</th>\n",
       "      <td>72.605709</td>\n",
       "      <td>146.055739</td>\n",
       "      <td>2212.007033</td>\n",
       "      <td>1567.663696</td>\n",
       "      <td>1603.403984</td>\n",
       "      <td>1640.007194</td>\n",
       "      <td>1671.862359</td>\n",
       "      <td>1710.782658</td>\n",
       "    </tr>\n",
       "    <tr>\n",
       "      <th>min</th>\n",
       "      <td>4.000000</td>\n",
       "      <td>2501.000000</td>\n",
       "      <td>511.000000</td>\n",
       "      <td>-1796.000000</td>\n",
       "      <td>-3161.000000</td>\n",
       "      <td>-3225.000000</td>\n",
       "      <td>-1582.000000</td>\n",
       "      <td>-3396.000000</td>\n",
       "    </tr>\n",
       "    <tr>\n",
       "      <th>25%</th>\n",
       "      <td>74.000000</td>\n",
       "      <td>2562.000000</td>\n",
       "      <td>684.000000</td>\n",
       "      <td>0.000000</td>\n",
       "      <td>0.000000</td>\n",
       "      <td>0.000000</td>\n",
       "      <td>0.000000</td>\n",
       "      <td>0.000000</td>\n",
       "    </tr>\n",
       "    <tr>\n",
       "      <th>50%</th>\n",
       "      <td>136.000000</td>\n",
       "      <td>2630.000000</td>\n",
       "      <td>5142.000000</td>\n",
       "      <td>0.090000</td>\n",
       "      <td>0.080000</td>\n",
       "      <td>0.080000</td>\n",
       "      <td>0.100000</td>\n",
       "      <td>0.070000</td>\n",
       "    </tr>\n",
       "    <tr>\n",
       "      <th>75%</th>\n",
       "      <td>195.000000</td>\n",
       "      <td>2775.000000</td>\n",
       "      <td>5511.000000</td>\n",
       "      <td>8.340000</td>\n",
       "      <td>8.460000</td>\n",
       "      <td>8.430000</td>\n",
       "      <td>9.000000</td>\n",
       "      <td>9.000000</td>\n",
       "    </tr>\n",
       "    <tr>\n",
       "      <th>max</th>\n",
       "      <td>276.000000</td>\n",
       "      <td>2961.000000</td>\n",
       "      <td>5911.000000</td>\n",
       "      <td>176405.000000</td>\n",
       "      <td>181137.000000</td>\n",
       "      <td>185960.000000</td>\n",
       "      <td>190873.000000</td>\n",
       "      <td>195875.000000</td>\n",
       "    </tr>\n",
       "  </tbody>\n",
       "</table>\n",
       "</div>"
      ],
      "text/plain": [
       "          Area Code     Item Code  Element Code          Y2014          Y2015  \\\n",
       "count  60943.000000  60943.000000  60943.000000   59354.000000   59395.000000   \n",
       "mean     134.265576   2687.176706   3814.856456     134.196282     135.235966   \n",
       "std       72.605709    146.055739   2212.007033    1567.663696    1603.403984   \n",
       "min        4.000000   2501.000000    511.000000   -1796.000000   -3161.000000   \n",
       "25%       74.000000   2562.000000    684.000000       0.000000       0.000000   \n",
       "50%      136.000000   2630.000000   5142.000000       0.090000       0.080000   \n",
       "75%      195.000000   2775.000000   5511.000000       8.340000       8.460000   \n",
       "max      276.000000   2961.000000   5911.000000  176405.000000  181137.000000   \n",
       "\n",
       "               Y2016          Y2017          Y2018  \n",
       "count   59408.000000   59437.000000   59507.000000  \n",
       "mean      136.555222     140.917765     143.758381  \n",
       "std      1640.007194    1671.862359    1710.782658  \n",
       "min     -3225.000000   -1582.000000   -3396.000000  \n",
       "25%         0.000000       0.000000       0.000000  \n",
       "50%         0.080000       0.100000       0.070000  \n",
       "75%         8.430000       9.000000       9.000000  \n",
       "max    185960.000000  190873.000000  195875.000000  "
      ]
     },
     "execution_count": 14,
     "metadata": {},
     "output_type": "execute_result"
    }
   ],
   "source": [
    "df.describe()"
   ]
  },
  {
   "cell_type": "code",
   "execution_count": 15,
   "id": "10de959f",
   "metadata": {},
   "outputs": [
    {
     "name": "stderr",
     "output_type": "stream",
     "text": [
      "C:\\Users\\DAMILARE\\AppData\\Local\\Temp\\ipykernel_2184\\3390915376.py:1: FutureWarning: Dropping of nuisance columns in DataFrame reductions (with 'numeric_only=None') is deprecated; in a future version this will raise TypeError.  Select only valid columns before calling the reduction.\n",
      "  df.std()\n"
     ]
    },
    {
     "data": {
      "text/plain": [
       "Area Code         72.605709\n",
       "Item Code        146.055739\n",
       "Element Code    2212.007033\n",
       "Y2014           1567.663696\n",
       "Y2015           1603.403984\n",
       "Y2016           1640.007194\n",
       "Y2017           1671.862359\n",
       "Y2018           1710.782658\n",
       "dtype: float64"
      ]
     },
     "execution_count": 15,
     "metadata": {},
     "output_type": "execute_result"
    }
   ],
   "source": [
    "df.std()"
   ]
  },
  {
   "cell_type": "code",
   "execution_count": 16,
   "id": "0960107b",
   "metadata": {},
   "outputs": [
    {
     "name": "stderr",
     "output_type": "stream",
     "text": [
      "C:\\Users\\DAMILARE\\AppData\\Local\\Temp\\ipykernel_2184\\3698961737.py:1: FutureWarning: Dropping of nuisance columns in DataFrame reductions (with 'numeric_only=None') is deprecated; in a future version this will raise TypeError.  Select only valid columns before calling the reduction.\n",
      "  df.mean()\n"
     ]
    },
    {
     "data": {
      "text/plain": [
       "Area Code        134.265576\n",
       "Item Code       2687.176706\n",
       "Element Code    3814.856456\n",
       "Y2014            134.196282\n",
       "Y2015            135.235966\n",
       "Y2016            136.555222\n",
       "Y2017            140.917765\n",
       "Y2018            143.758381\n",
       "dtype: float64"
      ]
     },
     "execution_count": 16,
     "metadata": {},
     "output_type": "execute_result"
    }
   ],
   "source": [
    "df.mean()"
   ]
  },
  {
   "cell_type": "code",
   "execution_count": 17,
   "id": "1b115fdf",
   "metadata": {},
   "outputs": [
    {
     "data": {
      "text/html": [
       "<div>\n",
       "<style scoped>\n",
       "    .dataframe tbody tr th:only-of-type {\n",
       "        vertical-align: middle;\n",
       "    }\n",
       "\n",
       "    .dataframe tbody tr th {\n",
       "        vertical-align: top;\n",
       "    }\n",
       "\n",
       "    .dataframe thead th {\n",
       "        text-align: right;\n",
       "    }\n",
       "</style>\n",
       "<table border=\"1\" class=\"dataframe\">\n",
       "  <thead>\n",
       "    <tr style=\"text-align: right;\">\n",
       "      <th></th>\n",
       "      <th>Area Code</th>\n",
       "      <th>Item Code</th>\n",
       "      <th>Element Code</th>\n",
       "      <th>Y2014</th>\n",
       "      <th>Y2015</th>\n",
       "      <th>Y2016</th>\n",
       "      <th>Y2017</th>\n",
       "      <th>Y2018</th>\n",
       "    </tr>\n",
       "  </thead>\n",
       "  <tbody>\n",
       "    <tr>\n",
       "      <th>Area Code</th>\n",
       "      <td>1.000000</td>\n",
       "      <td>-0.005159</td>\n",
       "      <td>-0.000209</td>\n",
       "      <td>0.006164</td>\n",
       "      <td>0.005472</td>\n",
       "      <td>0.005247</td>\n",
       "      <td>0.005006</td>\n",
       "      <td>0.005665</td>\n",
       "    </tr>\n",
       "    <tr>\n",
       "      <th>Item Code</th>\n",
       "      <td>-0.005159</td>\n",
       "      <td>1.000000</td>\n",
       "      <td>-0.024683</td>\n",
       "      <td>0.021722</td>\n",
       "      <td>0.020857</td>\n",
       "      <td>0.020109</td>\n",
       "      <td>0.021494</td>\n",
       "      <td>0.021314</td>\n",
       "    </tr>\n",
       "    <tr>\n",
       "      <th>Element Code</th>\n",
       "      <td>-0.000209</td>\n",
       "      <td>-0.024683</td>\n",
       "      <td>1.000000</td>\n",
       "      <td>0.024457</td>\n",
       "      <td>0.023889</td>\n",
       "      <td>0.023444</td>\n",
       "      <td>0.024254</td>\n",
       "      <td>0.024279</td>\n",
       "    </tr>\n",
       "    <tr>\n",
       "      <th>Y2014</th>\n",
       "      <td>0.006164</td>\n",
       "      <td>0.021722</td>\n",
       "      <td>0.024457</td>\n",
       "      <td>1.000000</td>\n",
       "      <td>0.994647</td>\n",
       "      <td>0.996081</td>\n",
       "      <td>0.995230</td>\n",
       "      <td>0.994872</td>\n",
       "    </tr>\n",
       "    <tr>\n",
       "      <th>Y2015</th>\n",
       "      <td>0.005472</td>\n",
       "      <td>0.020857</td>\n",
       "      <td>0.023889</td>\n",
       "      <td>0.994647</td>\n",
       "      <td>1.000000</td>\n",
       "      <td>0.995739</td>\n",
       "      <td>0.988048</td>\n",
       "      <td>0.988208</td>\n",
       "    </tr>\n",
       "    <tr>\n",
       "      <th>Y2016</th>\n",
       "      <td>0.005247</td>\n",
       "      <td>0.020109</td>\n",
       "      <td>0.023444</td>\n",
       "      <td>0.996081</td>\n",
       "      <td>0.995739</td>\n",
       "      <td>1.000000</td>\n",
       "      <td>0.992785</td>\n",
       "      <td>0.992757</td>\n",
       "    </tr>\n",
       "    <tr>\n",
       "      <th>Y2017</th>\n",
       "      <td>0.005006</td>\n",
       "      <td>0.021494</td>\n",
       "      <td>0.024254</td>\n",
       "      <td>0.995230</td>\n",
       "      <td>0.988048</td>\n",
       "      <td>0.992785</td>\n",
       "      <td>1.000000</td>\n",
       "      <td>0.998103</td>\n",
       "    </tr>\n",
       "    <tr>\n",
       "      <th>Y2018</th>\n",
       "      <td>0.005665</td>\n",
       "      <td>0.021314</td>\n",
       "      <td>0.024279</td>\n",
       "      <td>0.994872</td>\n",
       "      <td>0.988208</td>\n",
       "      <td>0.992757</td>\n",
       "      <td>0.998103</td>\n",
       "      <td>1.000000</td>\n",
       "    </tr>\n",
       "  </tbody>\n",
       "</table>\n",
       "</div>"
      ],
      "text/plain": [
       "              Area Code  Item Code  Element Code     Y2014     Y2015  \\\n",
       "Area Code      1.000000  -0.005159     -0.000209  0.006164  0.005472   \n",
       "Item Code     -0.005159   1.000000     -0.024683  0.021722  0.020857   \n",
       "Element Code  -0.000209  -0.024683      1.000000  0.024457  0.023889   \n",
       "Y2014          0.006164   0.021722      0.024457  1.000000  0.994647   \n",
       "Y2015          0.005472   0.020857      0.023889  0.994647  1.000000   \n",
       "Y2016          0.005247   0.020109      0.023444  0.996081  0.995739   \n",
       "Y2017          0.005006   0.021494      0.024254  0.995230  0.988048   \n",
       "Y2018          0.005665   0.021314      0.024279  0.994872  0.988208   \n",
       "\n",
       "                 Y2016     Y2017     Y2018  \n",
       "Area Code     0.005247  0.005006  0.005665  \n",
       "Item Code     0.020109  0.021494  0.021314  \n",
       "Element Code  0.023444  0.024254  0.024279  \n",
       "Y2014         0.996081  0.995230  0.994872  \n",
       "Y2015         0.995739  0.988048  0.988208  \n",
       "Y2016         1.000000  0.992785  0.992757  \n",
       "Y2017         0.992785  1.000000  0.998103  \n",
       "Y2018         0.992757  0.998103  1.000000  "
      ]
     },
     "execution_count": 17,
     "metadata": {},
     "output_type": "execute_result"
    }
   ],
   "source": [
    "df.corr(method ='pearson')"
   ]
  },
  {
   "cell_type": "code",
   "execution_count": 18,
   "id": "4396707f",
   "metadata": {},
   "outputs": [
    {
     "name": "stdout",
     "output_type": "stream",
     "text": [
      "Kenya                          1560\n",
      "Egypt                          1488\n",
      "Nigeria                        1474\n",
      "Côte d'Ivoire                  1467\n",
      "Senegal                        1462\n",
      "Cameroon                       1460\n",
      "Uganda                         1458\n",
      "Zambia                         1451\n",
      "Malawi                         1447\n",
      "Ethiopia                       1447\n",
      "Madagascar                     1439\n",
      "Mozambique                     1427\n",
      "Rwanda                         1426\n",
      "Angola                         1424\n",
      "United Republic of Tanzania    1419\n",
      "Congo                          1413\n",
      "Guinea                         1410\n",
      "Burkina Faso                   1409\n",
      "Niger                          1403\n",
      "South Africa                   1399\n",
      "Zimbabwe                       1393\n",
      "Morocco                        1393\n",
      "Mauritius                      1378\n",
      "Botswana                       1378\n",
      "Ghana                          1354\n",
      "Central African Republic       1344\n",
      "Chad                           1343\n",
      "Tunisia                        1338\n",
      "Sudan                          1316\n",
      "Algeria                        1313\n",
      "Togo                           1294\n",
      "Mali                           1293\n",
      "Benin                          1285\n",
      "Eswatini                       1284\n",
      "Namibia                        1283\n",
      "Cabo Verde                     1260\n",
      "Gabon                          1245\n",
      "Sierra Leone                   1242\n",
      "Liberia                        1206\n",
      "Mauritania                     1195\n",
      "Sao Tome and Principe          1177\n",
      "Gambia                         1168\n",
      "Lesotho                        1150\n",
      "Guinea-Bissau                  1128\n",
      "Djibouti                       1095\n",
      "Seychelles                       68\n",
      "Sudan (former)                   53\n",
      "Comoros                          45\n",
      "Ethiopia PDR                     39\n",
      "Name: Area, dtype: int64\n"
     ]
    }
   ],
   "source": [
    "print(df['Area'].value_counts())"
   ]
  },
  {
   "cell_type": "code",
   "execution_count": 19,
   "id": "87bae560",
   "metadata": {},
   "outputs": [
    {
     "ename": "TypeError",
     "evalue": "'tuple' object does not support item assignment",
     "output_type": "error",
     "traceback": [
      "\u001b[1;31m---------------------------------------------------------------------------\u001b[0m",
      "\u001b[1;31mTypeError\u001b[0m                                 Traceback (most recent call last)",
      "Input \u001b[1;32mIn [19]\u001b[0m, in \u001b[0;36m<cell line: 3>\u001b[1;34m()\u001b[0m\n\u001b[0;32m      1\u001b[0m my_tuppy \u001b[38;5;241m=\u001b[39m (\u001b[38;5;241m1\u001b[39m,\u001b[38;5;241m2\u001b[39m,\u001b[38;5;241m5\u001b[39m,\u001b[38;5;241m8\u001b[39m)\n\u001b[1;32m----> 3\u001b[0m my_tuppy[\u001b[38;5;241m2\u001b[39m] \u001b[38;5;241m=\u001b[39m \u001b[38;5;241m6\u001b[39m\n",
      "\u001b[1;31mTypeError\u001b[0m: 'tuple' object does not support item assignment"
     ]
    }
   ],
   "source": [
    "my_tuppy = (1,2,5,8)\n",
    "\n",
    "my_tuppy[2] = 6"
   ]
  },
  {
   "cell_type": "code",
   "execution_count": 20,
   "id": "b0cd2c42",
   "metadata": {},
   "outputs": [
    {
     "name": "stdout",
     "output_type": "stream",
     "text": [
      "                                        Area Code  Item Code  Element Code  \\\n",
      "Element                                                                      \n",
      "Domestic supply quantity                   708993   14197445      28068795   \n",
      "Export Quantity                            599910   11840553      26026133   \n",
      "Fat supply quantity (g/capita/day)         675050   13535000       3435732   \n",
      "Feed                                       176272    3538507       7282199   \n",
      "Food                                       663295   13285035      25406622   \n",
      "Food supply (kcal/capita/day)              674057   13511060       3329296   \n",
      "Food supply quantity (kg/capita/yr)        658446   13185401       3163725   \n",
      "Import Quantity                            688174   13795966      28834929   \n",
      "Losses                                     274353    5424803      10292107   \n",
      "Other uses (non-food)                      235554    4729749       8926728   \n",
      "Processing                                 271940    5350416      10313310   \n",
      "Production                                 526751   10450053      21388191   \n",
      "Protein supply quantity (g/capita/day)     675050   13535000       3385502   \n",
      "Residuals                                  623271   12421089      24066350   \n",
      "Seed                                       103537    2035933       4211574   \n",
      "Stock Variation                            571566   11329527      21464704   \n",
      "Total Population - Both sexes                6020     112545         22995   \n",
      "Tourist consumption                         50308    1486528       2869905   \n",
      "\n",
      "                                             Y2014       Y2015       Y2016  \\\n",
      "Element                                                                      \n",
      "Domestic supply quantity                1996716.35  2021493.55  2044842.70   \n",
      "Export Quantity                          150020.64   157614.47   151920.46   \n",
      "Fat supply quantity (g/capita/day)        10225.56    10235.74    10102.77   \n",
      "Feed                                     216927.89   225050.22   228958.65   \n",
      "Food                                    1212332.49  1232361.10  1247022.17   \n",
      "Food supply (kcal/capita/day)            454257.00   453383.00   451810.00   \n",
      "Food supply quantity (kg/capita/yr)       49650.63    49345.13    48985.28   \n",
      "Import Quantity                          274144.48   267018.46   286582.78   \n",
      "Losses                                   153223.00   155439.00   157787.00   \n",
      "Other uses (non-food)                     78718.13    66254.41    69563.68   \n",
      "Processing                               282923.00   287929.00   280631.00   \n",
      "Production                              1931287.75  1947019.39  1943537.15   \n",
      "Protein supply quantity (g/capita/day)    11836.46    11833.95    11779.69   \n",
      "Residuals                                 30149.00    30045.00    37224.00   \n",
      "Seed                                      21922.92    23976.82    23389.20   \n",
      "Stock Variation                           58749.83    34910.99    33140.12   \n",
      "Total Population - Both sexes           1031585.00  1058081.00  1085107.00   \n",
      "Tourist consumption                         416.00      349.00       89.00   \n",
      "\n",
      "                                             Y2017       Y2018  \n",
      "Element                                                         \n",
      "Domestic supply quantity                2088198.10  2161192.10  \n",
      "Export Quantity                          182338.80   181594.80  \n",
      "Fat supply quantity (g/capita/day)        10253.84    10258.69  \n",
      "Feed                                     223705.68   233489.68  \n",
      "Food                                    1258888.28  1303841.28  \n",
      "Food supply (kcal/capita/day)            454681.00   455261.00  \n",
      "Food supply quantity (kg/capita/yr)       48690.04    49056.85  \n",
      "Import Quantity                          294559.09   287997.09  \n",
      "Losses                                   160614.00   163902.00  \n",
      "Other uses (non-food)                     91645.97    91300.97  \n",
      "Processing                               292836.00   308429.00  \n",
      "Production                              2030056.89  2075072.89  \n",
      "Protein supply quantity (g/capita/day)    11842.45    11833.56  \n",
      "Residuals                                 35500.00    34864.00  \n",
      "Seed                                      24870.14    25263.14  \n",
      "Stock Variation                           54316.91    20577.91  \n",
      "Total Population - Both sexes           1112641.00  1140605.00  \n",
      "Tourist consumption                          91.00       90.00  \n"
     ]
    }
   ],
   "source": [
    "df5=df.groupby(['Element']).sum()\n",
    "print(df5)"
   ]
  },
  {
   "cell_type": "code",
   "execution_count": 21,
   "id": "6aa07219",
   "metadata": {},
   "outputs": [],
   "source": [
    "percent_missing = df.isnull().sum() * 100 / len(df)"
   ]
  },
  {
   "cell_type": "code",
   "execution_count": 22,
   "id": "31aec207",
   "metadata": {},
   "outputs": [
    {
     "name": "stdout",
     "output_type": "stream",
     "text": [
      "Area Code       0.000000\n",
      "Area            0.000000\n",
      "Item Code       0.000000\n",
      "Item            0.000000\n",
      "Element Code    0.000000\n",
      "Element         0.000000\n",
      "Unit            0.000000\n",
      "Y2014           2.607354\n",
      "Y2015           2.540078\n",
      "Y2016           2.518747\n",
      "Y2017           2.471162\n",
      "Y2018           2.356300\n",
      "dtype: float64\n"
     ]
    }
   ],
   "source": [
    "print(percent_missing)"
   ]
  },
  {
   "cell_type": "code",
   "execution_count": 23,
   "id": "c4065cb4",
   "metadata": {},
   "outputs": [
    {
     "name": "stdout",
     "output_type": "stream",
     "text": [
      "                           sum  count\n",
      "Item                                 \n",
      "Alcohol, Non-Food      2348.00    273\n",
      "Alcoholic Beverages   95581.06    560\n",
      "Animal Products       11547.65    135\n",
      "Animal fats          269617.53    636\n",
      "Apples and products   10198.90    511\n",
      "...                        ...    ...\n",
      "Vegetables, Other    157752.59    574\n",
      "Vegetal Products     107655.20    135\n",
      "Wheat and products   240047.62    646\n",
      "Wine                   4178.02    491\n",
      "Yams                 229174.59    349\n",
      "\n",
      "[119 rows x 2 columns]\n"
     ]
    }
   ],
   "source": [
    "df6 = df.groupby('Item')['Y2017'].agg(['sum','count'])\n",
    "print(df6)"
   ]
  },
  {
   "cell_type": "code",
   "execution_count": 24,
   "id": "a2188f96",
   "metadata": {},
   "outputs": [
    {
     "name": "stdout",
     "output_type": "stream",
     "text": [
      "                                        sum  count\n",
      "Item                                              \n",
      "Alcohol, Non-Food                   2348.00    273\n",
      "Alcoholic Beverages                95581.06    560\n",
      "Animal Products                    11547.65    135\n",
      "Animal fats                       269617.53    636\n",
      "Apples and products                10198.90    511\n",
      "Aquatic Animals, Others                5.92    349\n",
      "Aquatic Plants                       452.02    381\n",
      "Aquatic Products, Other              456.65    392\n",
      "Bananas                            53008.82    490\n",
      "Barley and products                26176.98    558\n",
      "Beans                              21351.42    572\n",
      "Beer                               41962.92    487\n",
      "Beverages, Alcoholic                3115.24    484\n",
      "Beverages, Fermented               43958.75    476\n",
      "Bovine Meat                        22612.86    513\n",
      "Butter, Ghee                        1116.68    442\n",
      "Cassava and products              401440.17    527\n",
      "Cephalopods                          532.14    446\n",
      "Cereals - Excluding Beer          905221.25    711\n",
      "Cereals, Other                     20615.95    580\n",
      "Citrus, Other                      15650.97    506\n",
      "Cloves                                82.32    391\n",
      "Cocoa Beans and products            8638.32    524\n",
      "Coconut Oil                          516.99    494\n",
      "Coconuts - Incl Copra               6478.91    528\n",
      "Coffee and products                 3861.45    537\n",
      "Cottonseed                          8623.00    303\n",
      "Cottonseed Oil                      1403.25    468\n",
      "Cream                                228.95    394\n",
      "Crustaceans                          834.82    484\n",
      "Dates                              11088.61    469\n",
      "Demersal Fish                       6618.70    468\n",
      "Eggs                               21749.74   1124\n",
      "Fats, Animals, Raw                  1783.67    589\n",
      "Fish, Body Oil                       219.65    415\n",
      "Fish, Liver Oil                       48.02    352\n",
      "Fish, Seafood                      44849.35    535\n",
      "Freshwater Fish                    14258.00    483\n",
      "Fruits - Excluding Wine           284309.07    584\n",
      "Fruits, Other                      59463.60    568\n",
      "Grand Total                       119264.82    135\n",
      "Grapefruit and products             2137.02    505\n",
      "Grapes and products (excl wine)    14591.98    510\n",
      "Groundnut Oil                       5389.20    512\n",
      "Groundnuts (Shelled Eq)            44684.53    612\n",
      "Honey                                660.07    503\n",
      "Infant food                          311.92    433\n",
      "Lemons, Limes and products          4191.49    505\n",
      "Maize Germ Oil                      1075.37    465\n",
      "Maize and products                323471.75    682\n",
      "Marine Fish, Other                  3136.63    479\n",
      "Meat                               67833.55    533\n",
      "Meat, Other                         5324.82    501\n",
      "Milk - Excluding Butter           276703.90   1252\n",
      "Millet and products                41836.61    531\n",
      "Miscellaneous                       6921.83    907\n",
      "Molluscs, Other                      157.34    444\n",
      "Mutton & Goat Meat                  9769.78    477\n",
      "Nuts and products                   6875.08    518\n",
      "Oats                                 902.97    508\n",
      "Offals                              8252.88    510\n",
      "Offals, Edible                      8252.88    510\n",
      "Oilcrops                          166985.23    703\n",
      "Oilcrops Oil, Other                 5925.84    544\n",
      "Oilcrops, Other                     6269.10    559\n",
      "Olive Oil                           1484.14    497\n",
      "Olives (including preserved)        9930.20    463\n",
      "Onions                             39656.98    475\n",
      "Oranges, Mandarines                34602.81    538\n",
      "Palm Oil                           32462.95    524\n",
      "Palm kernels                       56218.00    233\n",
      "Palmkernel Oil                      1517.36    483\n",
      "Peas                                2425.43    505\n",
      "Pelagic Fish                       19801.15    533\n",
      "Pepper                               142.76    471\n",
      "Pigmeat                             6099.27    504\n",
      "Pimento                             2812.22    478\n",
      "Pineapples and products            15694.20    515\n",
      "Plantains                          63619.19    359\n",
      "Population                       1112641.00     90\n",
      "Potatoes and products              74990.58    625\n",
      "Poultry Meat                       23985.90    506\n",
      "Pulses                             65535.31    642\n",
      "Pulses, Other and products         41741.43    618\n",
      "Rape and Mustard Oil                 329.98    456\n",
      "Rape and Mustardseed                 628.00    509\n",
      "Rice and products                 166354.09    659\n",
      "Ricebran Oil                           0.00    207\n",
      "Roots, Other                       43389.37    527\n",
      "Rye and products                     306.41    422\n",
      "Sesame seed                         7955.60    519\n",
      "Sesameseed Oil                       663.10    456\n",
      "Sorghum and products               85468.93    576\n",
      "Soyabean Oil                       10683.31    515\n",
      "Soyabeans                          18574.99    556\n",
      "Spices                              6801.63    517\n",
      "Spices, Other                       3744.19    481\n",
      "Starchy Roots                     825497.34    667\n",
      "Stimulants                         15119.56    562\n",
      "Sugar & Sweeteners                 86952.63    604\n",
      "Sugar (Raw Equivalent)             77413.80    528\n",
      "Sugar Crops                       315572.36    472\n",
      "Sugar beet                         45332.00    188\n",
      "Sugar cane                        270238.36    427\n",
      "Sugar non-centrifugal                204.68    113\n",
      "Sunflower seed                      7545.63    363\n",
      "Sunflowerseed Oil                   6432.42    511\n",
      "Sweet potatoes                     76488.54    516\n",
      "Sweeteners, Other                   8667.08    564\n",
      "Tea (including mate)                2599.72    477\n",
      "Tomatoes and products              61712.96    546\n",
      "Treenuts                            6875.08    518\n",
      "Vegetable Oils                     67913.02    572\n",
      "Vegetables                        259140.62    578\n",
      "Vegetables, Other                 157752.59    574\n",
      "Vegetal Products                  107655.20    135\n",
      "Wheat and products                240047.62    646\n",
      "Wine                                4178.02    491\n",
      "Yams                              229174.59    349\n"
     ]
    }
   ],
   "source": [
    "df7 = df.groupby('Item')['Y2017'].agg(['sum','count'])\n",
    "print(df7.to_string())"
   ]
  },
  {
   "cell_type": "code",
   "execution_count": 25,
   "id": "08985cc0",
   "metadata": {},
   "outputs": [],
   "source": [
    "d=np.array  = ([[94, 89, 63],\n",
    "\n",
    "             [93, 92, 48],\n",
    "\n",
    "             [92, 94, 56]])"
   ]
  },
  {
   "cell_type": "code",
   "execution_count": 26,
   "id": "d6e2d516",
   "metadata": {},
   "outputs": [
    {
     "name": "stdout",
     "output_type": "stream",
     "text": [
      "[[94, 89, 63], [93, 92, 48], [92, 94, 56]]\n"
     ]
    }
   ],
   "source": [
    "print(d)"
   ]
  },
  {
   "cell_type": "code",
   "execution_count": 27,
   "id": "765b6470",
   "metadata": {},
   "outputs": [],
   "source": [
    "S = [['him', 'sell'], [90, 28, 43]]"
   ]
  },
  {
   "cell_type": "code",
   "execution_count": 28,
   "id": "56d84626",
   "metadata": {},
   "outputs": [
    {
     "data": {
      "text/plain": [
       "'e'"
      ]
     },
     "execution_count": 28,
     "metadata": {},
     "output_type": "execute_result"
    }
   ],
   "source": [
    "S[0][1][1]"
   ]
  },
  {
   "cell_type": "code",
   "execution_count": null,
   "id": "ce1d8e5c",
   "metadata": {},
   "outputs": [],
   "source": []
  }
 ],
 "metadata": {
  "kernelspec": {
   "display_name": "Python 3 (ipykernel)",
   "language": "python",
   "name": "python3"
  },
  "language_info": {
   "codemirror_mode": {
    "name": "ipython",
    "version": 3
   },
   "file_extension": ".py",
   "mimetype": "text/x-python",
   "name": "python",
   "nbconvert_exporter": "python",
   "pygments_lexer": "ipython3",
   "version": "3.9.12"
  }
 },
 "nbformat": 4,
 "nbformat_minor": 5
}
